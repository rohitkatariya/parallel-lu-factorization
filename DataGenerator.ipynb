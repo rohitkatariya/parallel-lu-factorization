{
 "cells": [
  {
   "cell_type": "code",
   "execution_count": 1,
   "metadata": {},
   "outputs": [],
   "source": [
    "import random"
   ]
  },
  {
   "cell_type": "code",
   "execution_count": 3,
   "metadata": {},
   "outputs": [],
   "source": [
    "x=[]\n",
    "for n in range(100,5000,100):\n",
    "    H = [ [str(random.randint(0,10)) for i in range(n)] for j in range(n)]\n",
    "    with open(\"input_dir/{}.txt\".format(n),'w') as myf:\n",
    "        myf.write(str(n))\n",
    "        for i in range(n):\n",
    "            myf.write(\"\\n\")\n",
    "            myf.write(\" \".join(H[i]))\n",
    "        "
   ]
  },
  {
   "cell_type": "code",
   "execution_count": 2,
   "metadata": {},
   "outputs": [
    {
     "name": "stdout",
     "output_type": "stream",
     "text": [
      "input_dir/{}.txt\n",
      "input_dir/{}.txt\n",
      "input_dir/{}.txt\n",
      "input_dir/{}.txt\n",
      "input_dir/{}.txt\n",
      "input_dir/{}.txt\n",
      "input_dir/{}.txt\n",
      "input_dir/{}.txt\n",
      "input_dir/{}.txt\n"
     ]
    }
   ],
   "source": [
    "\n",
    "x=[]\n",
    "for n in range(12,100,10):\n",
    "    H = [ [str(random.random()*30) for i in range(n)] for j in range(n)]\n",
    "    print(\"input_dir/{}.txt\")\n",
    "    with open(\"input_dir/{}.txt\".format(n),'w') as myf:\n",
    "        myf.write(str(n))\n",
    "        for i in range(n):\n",
    "            myf.write(\"\\n\")\n",
    "            myf.write(\" \".join(H[i]))\n",
    "        \n",
    "# n = \n"
   ]
  },
  {
   "cell_type": "code",
   "execution_count": null,
   "metadata": {},
   "outputs": [],
   "source": [
    "import pprint\n",
    "import scipy\n",
    "import scipy.linalg   # SciPy Linear Algebra Library\n",
    "n=5\n",
    "with open(\"input_dir/{}.txt\".format(n),'r') as myf:\n",
    "    A = []\n",
    "    n = int(myf.readline())\n",
    "    for i in range(n):\n",
    "        A.append([])\n",
    "        A[i]=[ int(k) for k in myf.readline().split()]\n",
    "A        "
   ]
  },
  {
   "cell_type": "code",
   "execution_count": null,
   "metadata": {},
   "outputs": [],
   "source": [
    "def luDecomposition(mat, n):\n",
    " \n",
    "    lower = [[0 for x in range(n)]\n",
    "             for y in range(n)]\n",
    "    upper = [[0 for x in range(n)]\n",
    "             for y in range(n)]\n",
    " \n",
    "    # Decomposing matrix into Upper\n",
    "    # and Lower triangular matrix\n",
    "    for i in range(n):\n",
    " \n",
    "        # Upper Triangular\n",
    "        for k in range(i, n):\n",
    " \n",
    "            # Summation of L(i, j) * U(j, k)\n",
    "            sum = 0\n",
    "            for j in range(i):\n",
    "                sum += (lower[i][j] * upper[j][k])\n",
    " \n",
    "            # Evaluating U(i, k)\n",
    "            upper[i][k] = mat[i][k] - sum\n",
    " \n",
    "        # Lower Triangular\n",
    "        for k in range(i, n):\n",
    "            if (i == k):\n",
    "                lower[i][i] = 1  # Diagonal as 1\n",
    "            else:\n",
    " \n",
    "                # Summation of L(k, j) * U(j, i)\n",
    "                sum = 0\n",
    "                for j in range(i):\n",
    "                    sum += (lower[k][j] * upper[j][i])\n",
    " \n",
    "                # Evaluating L(k, i)\n",
    "                lower[k][i] = ((mat[k][i] - sum) /\n",
    "                                  upper[i][i])\n",
    " \n",
    "    # setw is for displaying nicely\n",
    "    print(\"Lower Triangular\\t\\tUpper Triangular\")\n",
    " \n",
    "    # Displaying the result :\n",
    "    for i in range(n):\n",
    "        # Lower\n",
    "        for j in range(n):\n",
    "            print(lower[i][j], end=\"\\t\")\n",
    "        print(\"\")\n",
    "    for i in range(n):\n",
    "        # Upper\n",
    "        for j in range(n):\n",
    "            print(upper[i][j], end=\"\\t\")\n",
    "        print(\"\")\n",
    " \n",
    " "
   ]
  },
  {
   "cell_type": "code",
   "execution_count": null,
   "metadata": {},
   "outputs": [],
   "source": [
    "luDecomposition(A,n) "
   ]
  },
  {
   "cell_type": "code",
   "execution_count": null,
   "metadata": {},
   "outputs": [],
   "source": [
    "# A = scipy.array([ [7, 3, -1, 2], [3, 8, 1, -4], [-1, 1, 4, -1], [2, -4, -1, 6] ])\n",
    "P, L, U = scipy.linalg.lu(A)\n",
    "\n",
    "print (\"A:\")\n",
    "pprint.pprint(A)\n",
    "\n",
    "print( \"P:\")\n",
    "pprint.pprint(P)\n",
    "\n",
    "print( \"L:\")\n",
    "pprint.pprint(L)\n",
    "\n",
    "print( \"U:\")\n",
    "pprint.pprint(U)"
   ]
  },
  {
   "cell_type": "code",
   "execution_count": null,
   "metadata": {},
   "outputs": [],
   "source": []
  }
 ],
 "metadata": {
  "kernelspec": {
   "display_name": "Python 3",
   "language": "python",
   "name": "python3"
  },
  "language_info": {
   "codemirror_mode": {
    "name": "ipython",
    "version": 3
   },
   "file_extension": ".py",
   "mimetype": "text/x-python",
   "name": "python",
   "nbconvert_exporter": "python",
   "pygments_lexer": "ipython3",
   "version": "3.8.3"
  }
 },
 "nbformat": 4,
 "nbformat_minor": 4
}
